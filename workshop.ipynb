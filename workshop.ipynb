{
 "cells": [
  {
   "cell_type": "code",
   "execution_count": 21,
   "metadata": {},
   "outputs": [],
   "source": [
    "import os \n",
    "import numpy as np\n",
    "import pandas as pd\n",
    "from collections import Counter\n",
    "from eo_master2.utils import tools"
   ]
  },
  {
   "cell_type": "markdown",
   "metadata": {},
   "source": [
    "# lister les images de la SITS"
   ]
  },
  {
   "cell_type": "code",
   "execution_count": 2,
   "metadata": {},
   "outputs": [
    {
     "name": "stdout",
     "output_type": "stream",
     "text": [
      "['C:/Users/Anis Speiler/Desktop/Nouveau dossier (3)/T31TCJ_Toulouse_Nord\\\\20230101.tif', 'C:/Users/Anis Speiler/Desktop/Nouveau dossier (3)/T31TCJ_Toulouse_Nord\\\\20230103.tif', 'C:/Users/Anis Speiler/Desktop/Nouveau dossier (3)/T31TCJ_Toulouse_Nord\\\\20230105.tif', 'C:/Users/Anis Speiler/Desktop/Nouveau dossier (3)/T31TCJ_Toulouse_Nord\\\\20230107.tif', 'C:/Users/Anis Speiler/Desktop/Nouveau dossier (3)/T31TCJ_Toulouse_Nord\\\\20230109.tif', 'C:/Users/Anis Speiler/Desktop/Nouveau dossier (3)/T31TCJ_Toulouse_Nord\\\\20230111.tif', 'C:/Users/Anis Speiler/Desktop/Nouveau dossier (3)/T31TCJ_Toulouse_Nord\\\\20230113.tif', 'C:/Users/Anis Speiler/Desktop/Nouveau dossier (3)/T31TCJ_Toulouse_Nord\\\\20230115.tif', 'C:/Users/Anis Speiler/Desktop/Nouveau dossier (3)/T31TCJ_Toulouse_Nord\\\\20230117.tif', 'C:/Users/Anis Speiler/Desktop/Nouveau dossier (3)/T31TCJ_Toulouse_Nord\\\\20230119.tif', 'C:/Users/Anis Speiler/Desktop/Nouveau dossier (3)/T31TCJ_Toulouse_Nord\\\\20230121.tif', 'C:/Users/Anis Speiler/Desktop/Nouveau dossier (3)/T31TCJ_Toulouse_Nord\\\\20230123.tif', 'C:/Users/Anis Speiler/Desktop/Nouveau dossier (3)/T31TCJ_Toulouse_Nord\\\\20230125.tif', 'C:/Users/Anis Speiler/Desktop/Nouveau dossier (3)/T31TCJ_Toulouse_Nord\\\\20230127.tif', 'C:/Users/Anis Speiler/Desktop/Nouveau dossier (3)/T31TCJ_Toulouse_Nord\\\\20230129.tif', 'C:/Users/Anis Speiler/Desktop/Nouveau dossier (3)/T31TCJ_Toulouse_Nord\\\\20230131.tif', 'C:/Users/Anis Speiler/Desktop/Nouveau dossier (3)/T31TCJ_Toulouse_Nord\\\\20230202.tif', 'C:/Users/Anis Speiler/Desktop/Nouveau dossier (3)/T31TCJ_Toulouse_Nord\\\\20230204.tif', 'C:/Users/Anis Speiler/Desktop/Nouveau dossier (3)/T31TCJ_Toulouse_Nord\\\\20230206.tif', 'C:/Users/Anis Speiler/Desktop/Nouveau dossier (3)/T31TCJ_Toulouse_Nord\\\\20230208.tif', 'C:/Users/Anis Speiler/Desktop/Nouveau dossier (3)/T31TCJ_Toulouse_Nord\\\\20230210.tif', 'C:/Users/Anis Speiler/Desktop/Nouveau dossier (3)/T31TCJ_Toulouse_Nord\\\\20230212.tif', 'C:/Users/Anis Speiler/Desktop/Nouveau dossier (3)/T31TCJ_Toulouse_Nord\\\\20230214.tif', 'C:/Users/Anis Speiler/Desktop/Nouveau dossier (3)/T31TCJ_Toulouse_Nord\\\\20230216.tif', 'C:/Users/Anis Speiler/Desktop/Nouveau dossier (3)/T31TCJ_Toulouse_Nord\\\\20230218.tif', 'C:/Users/Anis Speiler/Desktop/Nouveau dossier (3)/T31TCJ_Toulouse_Nord\\\\20230220.tif', 'C:/Users/Anis Speiler/Desktop/Nouveau dossier (3)/T31TCJ_Toulouse_Nord\\\\20230222.tif', 'C:/Users/Anis Speiler/Desktop/Nouveau dossier (3)/T31TCJ_Toulouse_Nord\\\\20230224.tif', 'C:/Users/Anis Speiler/Desktop/Nouveau dossier (3)/T31TCJ_Toulouse_Nord\\\\20230226.tif', 'C:/Users/Anis Speiler/Desktop/Nouveau dossier (3)/T31TCJ_Toulouse_Nord\\\\20230228.tif', 'C:/Users/Anis Speiler/Desktop/Nouveau dossier (3)/T31TCJ_Toulouse_Nord\\\\20230302.tif', 'C:/Users/Anis Speiler/Desktop/Nouveau dossier (3)/T31TCJ_Toulouse_Nord\\\\20230304.tif', 'C:/Users/Anis Speiler/Desktop/Nouveau dossier (3)/T31TCJ_Toulouse_Nord\\\\20230306.tif', 'C:/Users/Anis Speiler/Desktop/Nouveau dossier (3)/T31TCJ_Toulouse_Nord\\\\20230308.tif', 'C:/Users/Anis Speiler/Desktop/Nouveau dossier (3)/T31TCJ_Toulouse_Nord\\\\20230310.tif', 'C:/Users/Anis Speiler/Desktop/Nouveau dossier (3)/T31TCJ_Toulouse_Nord\\\\20230312.tif', 'C:/Users/Anis Speiler/Desktop/Nouveau dossier (3)/T31TCJ_Toulouse_Nord\\\\20230314.tif', 'C:/Users/Anis Speiler/Desktop/Nouveau dossier (3)/T31TCJ_Toulouse_Nord\\\\20230316.tif', 'C:/Users/Anis Speiler/Desktop/Nouveau dossier (3)/T31TCJ_Toulouse_Nord\\\\20230318.tif', 'C:/Users/Anis Speiler/Desktop/Nouveau dossier (3)/T31TCJ_Toulouse_Nord\\\\20230320.tif', 'C:/Users/Anis Speiler/Desktop/Nouveau dossier (3)/T31TCJ_Toulouse_Nord\\\\20230322.tif', 'C:/Users/Anis Speiler/Desktop/Nouveau dossier (3)/T31TCJ_Toulouse_Nord\\\\20230324.tif', 'C:/Users/Anis Speiler/Desktop/Nouveau dossier (3)/T31TCJ_Toulouse_Nord\\\\20230326.tif', 'C:/Users/Anis Speiler/Desktop/Nouveau dossier (3)/T31TCJ_Toulouse_Nord\\\\20230328.tif', 'C:/Users/Anis Speiler/Desktop/Nouveau dossier (3)/T31TCJ_Toulouse_Nord\\\\20230330.tif', 'C:/Users/Anis Speiler/Desktop/Nouveau dossier (3)/T31TCJ_Toulouse_Nord\\\\20230401.tif', 'C:/Users/Anis Speiler/Desktop/Nouveau dossier (3)/T31TCJ_Toulouse_Nord\\\\20230403.tif', 'C:/Users/Anis Speiler/Desktop/Nouveau dossier (3)/T31TCJ_Toulouse_Nord\\\\20230405.tif', 'C:/Users/Anis Speiler/Desktop/Nouveau dossier (3)/T31TCJ_Toulouse_Nord\\\\20230407.tif', 'C:/Users/Anis Speiler/Desktop/Nouveau dossier (3)/T31TCJ_Toulouse_Nord\\\\20230409.tif', 'C:/Users/Anis Speiler/Desktop/Nouveau dossier (3)/T31TCJ_Toulouse_Nord\\\\20230411.tif', 'C:/Users/Anis Speiler/Desktop/Nouveau dossier (3)/T31TCJ_Toulouse_Nord\\\\20230413.tif', 'C:/Users/Anis Speiler/Desktop/Nouveau dossier (3)/T31TCJ_Toulouse_Nord\\\\20230415.tif', 'C:/Users/Anis Speiler/Desktop/Nouveau dossier (3)/T31TCJ_Toulouse_Nord\\\\20230417.tif', 'C:/Users/Anis Speiler/Desktop/Nouveau dossier (3)/T31TCJ_Toulouse_Nord\\\\20230419.tif', 'C:/Users/Anis Speiler/Desktop/Nouveau dossier (3)/T31TCJ_Toulouse_Nord\\\\20230421.tif', 'C:/Users/Anis Speiler/Desktop/Nouveau dossier (3)/T31TCJ_Toulouse_Nord\\\\20230423.tif', 'C:/Users/Anis Speiler/Desktop/Nouveau dossier (3)/T31TCJ_Toulouse_Nord\\\\20230425.tif', 'C:/Users/Anis Speiler/Desktop/Nouveau dossier (3)/T31TCJ_Toulouse_Nord\\\\20230427.tif', 'C:/Users/Anis Speiler/Desktop/Nouveau dossier (3)/T31TCJ_Toulouse_Nord\\\\20230429.tif', 'C:/Users/Anis Speiler/Desktop/Nouveau dossier (3)/T31TCJ_Toulouse_Nord\\\\20230501.tif', 'C:/Users/Anis Speiler/Desktop/Nouveau dossier (3)/T31TCJ_Toulouse_Nord\\\\20230503.tif', 'C:/Users/Anis Speiler/Desktop/Nouveau dossier (3)/T31TCJ_Toulouse_Nord\\\\20230505.tif', 'C:/Users/Anis Speiler/Desktop/Nouveau dossier (3)/T31TCJ_Toulouse_Nord\\\\20230507.tif', 'C:/Users/Anis Speiler/Desktop/Nouveau dossier (3)/T31TCJ_Toulouse_Nord\\\\20230509.tif', 'C:/Users/Anis Speiler/Desktop/Nouveau dossier (3)/T31TCJ_Toulouse_Nord\\\\20230511.tif', 'C:/Users/Anis Speiler/Desktop/Nouveau dossier (3)/T31TCJ_Toulouse_Nord\\\\20230513.tif', 'C:/Users/Anis Speiler/Desktop/Nouveau dossier (3)/T31TCJ_Toulouse_Nord\\\\20230515.tif', 'C:/Users/Anis Speiler/Desktop/Nouveau dossier (3)/T31TCJ_Toulouse_Nord\\\\20230517.tif', 'C:/Users/Anis Speiler/Desktop/Nouveau dossier (3)/T31TCJ_Toulouse_Nord\\\\20230519.tif', 'C:/Users/Anis Speiler/Desktop/Nouveau dossier (3)/T31TCJ_Toulouse_Nord\\\\20230521.tif', 'C:/Users/Anis Speiler/Desktop/Nouveau dossier (3)/T31TCJ_Toulouse_Nord\\\\20230523.tif', 'C:/Users/Anis Speiler/Desktop/Nouveau dossier (3)/T31TCJ_Toulouse_Nord\\\\20230525.tif', 'C:/Users/Anis Speiler/Desktop/Nouveau dossier (3)/T31TCJ_Toulouse_Nord\\\\20230527.tif', 'C:/Users/Anis Speiler/Desktop/Nouveau dossier (3)/T31TCJ_Toulouse_Nord\\\\20230529.tif', 'C:/Users/Anis Speiler/Desktop/Nouveau dossier (3)/T31TCJ_Toulouse_Nord\\\\20230531.tif', 'C:/Users/Anis Speiler/Desktop/Nouveau dossier (3)/T31TCJ_Toulouse_Nord\\\\20230602.tif', 'C:/Users/Anis Speiler/Desktop/Nouveau dossier (3)/T31TCJ_Toulouse_Nord\\\\20230604.tif', 'C:/Users/Anis Speiler/Desktop/Nouveau dossier (3)/T31TCJ_Toulouse_Nord\\\\20230606.tif', 'C:/Users/Anis Speiler/Desktop/Nouveau dossier (3)/T31TCJ_Toulouse_Nord\\\\20230608.tif', 'C:/Users/Anis Speiler/Desktop/Nouveau dossier (3)/T31TCJ_Toulouse_Nord\\\\20230610.tif', 'C:/Users/Anis Speiler/Desktop/Nouveau dossier (3)/T31TCJ_Toulouse_Nord\\\\20230612.tif', 'C:/Users/Anis Speiler/Desktop/Nouveau dossier (3)/T31TCJ_Toulouse_Nord\\\\20230614.tif', 'C:/Users/Anis Speiler/Desktop/Nouveau dossier (3)/T31TCJ_Toulouse_Nord\\\\20230616.tif', 'C:/Users/Anis Speiler/Desktop/Nouveau dossier (3)/T31TCJ_Toulouse_Nord\\\\20230618.tif', 'C:/Users/Anis Speiler/Desktop/Nouveau dossier (3)/T31TCJ_Toulouse_Nord\\\\20230620.tif', 'C:/Users/Anis Speiler/Desktop/Nouveau dossier (3)/T31TCJ_Toulouse_Nord\\\\20230622.tif', 'C:/Users/Anis Speiler/Desktop/Nouveau dossier (3)/T31TCJ_Toulouse_Nord\\\\20230624.tif', 'C:/Users/Anis Speiler/Desktop/Nouveau dossier (3)/T31TCJ_Toulouse_Nord\\\\20230626.tif', 'C:/Users/Anis Speiler/Desktop/Nouveau dossier (3)/T31TCJ_Toulouse_Nord\\\\20230628.tif', 'C:/Users/Anis Speiler/Desktop/Nouveau dossier (3)/T31TCJ_Toulouse_Nord\\\\20230630.tif', 'C:/Users/Anis Speiler/Desktop/Nouveau dossier (3)/T31TCJ_Toulouse_Nord\\\\20230702.tif', 'C:/Users/Anis Speiler/Desktop/Nouveau dossier (3)/T31TCJ_Toulouse_Nord\\\\20230704.tif', 'C:/Users/Anis Speiler/Desktop/Nouveau dossier (3)/T31TCJ_Toulouse_Nord\\\\20230706.tif', 'C:/Users/Anis Speiler/Desktop/Nouveau dossier (3)/T31TCJ_Toulouse_Nord\\\\20230708.tif', 'C:/Users/Anis Speiler/Desktop/Nouveau dossier (3)/T31TCJ_Toulouse_Nord\\\\20230710.tif', 'C:/Users/Anis Speiler/Desktop/Nouveau dossier (3)/T31TCJ_Toulouse_Nord\\\\20230712.tif', 'C:/Users/Anis Speiler/Desktop/Nouveau dossier (3)/T31TCJ_Toulouse_Nord\\\\20230714.tif', 'C:/Users/Anis Speiler/Desktop/Nouveau dossier (3)/T31TCJ_Toulouse_Nord\\\\20230716.tif', 'C:/Users/Anis Speiler/Desktop/Nouveau dossier (3)/T31TCJ_Toulouse_Nord\\\\20230718.tif', 'C:/Users/Anis Speiler/Desktop/Nouveau dossier (3)/T31TCJ_Toulouse_Nord\\\\20230720.tif', 'C:/Users/Anis Speiler/Desktop/Nouveau dossier (3)/T31TCJ_Toulouse_Nord\\\\20230722.tif', 'C:/Users/Anis Speiler/Desktop/Nouveau dossier (3)/T31TCJ_Toulouse_Nord\\\\20230724.tif', 'C:/Users/Anis Speiler/Desktop/Nouveau dossier (3)/T31TCJ_Toulouse_Nord\\\\20230726.tif', 'C:/Users/Anis Speiler/Desktop/Nouveau dossier (3)/T31TCJ_Toulouse_Nord\\\\20230728.tif', 'C:/Users/Anis Speiler/Desktop/Nouveau dossier (3)/T31TCJ_Toulouse_Nord\\\\20230730.tif', 'C:/Users/Anis Speiler/Desktop/Nouveau dossier (3)/T31TCJ_Toulouse_Nord\\\\20230801.tif', 'C:/Users/Anis Speiler/Desktop/Nouveau dossier (3)/T31TCJ_Toulouse_Nord\\\\20230803.tif', 'C:/Users/Anis Speiler/Desktop/Nouveau dossier (3)/T31TCJ_Toulouse_Nord\\\\20230805.tif', 'C:/Users/Anis Speiler/Desktop/Nouveau dossier (3)/T31TCJ_Toulouse_Nord\\\\20230807.tif', 'C:/Users/Anis Speiler/Desktop/Nouveau dossier (3)/T31TCJ_Toulouse_Nord\\\\20230809.tif', 'C:/Users/Anis Speiler/Desktop/Nouveau dossier (3)/T31TCJ_Toulouse_Nord\\\\20230811.tif', 'C:/Users/Anis Speiler/Desktop/Nouveau dossier (3)/T31TCJ_Toulouse_Nord\\\\20230813.tif', 'C:/Users/Anis Speiler/Desktop/Nouveau dossier (3)/T31TCJ_Toulouse_Nord\\\\20230815.tif', 'C:/Users/Anis Speiler/Desktop/Nouveau dossier (3)/T31TCJ_Toulouse_Nord\\\\20230817.tif', 'C:/Users/Anis Speiler/Desktop/Nouveau dossier (3)/T31TCJ_Toulouse_Nord\\\\20230819.tif', 'C:/Users/Anis Speiler/Desktop/Nouveau dossier (3)/T31TCJ_Toulouse_Nord\\\\20230821.tif', 'C:/Users/Anis Speiler/Desktop/Nouveau dossier (3)/T31TCJ_Toulouse_Nord\\\\20230823.tif', 'C:/Users/Anis Speiler/Desktop/Nouveau dossier (3)/T31TCJ_Toulouse_Nord\\\\20230825.tif', 'C:/Users/Anis Speiler/Desktop/Nouveau dossier (3)/T31TCJ_Toulouse_Nord\\\\20230827.tif', 'C:/Users/Anis Speiler/Desktop/Nouveau dossier (3)/T31TCJ_Toulouse_Nord\\\\20230829.tif', 'C:/Users/Anis Speiler/Desktop/Nouveau dossier (3)/T31TCJ_Toulouse_Nord\\\\20230831.tif', 'C:/Users/Anis Speiler/Desktop/Nouveau dossier (3)/T31TCJ_Toulouse_Nord\\\\20230902.tif', 'C:/Users/Anis Speiler/Desktop/Nouveau dossier (3)/T31TCJ_Toulouse_Nord\\\\20230904.tif', 'C:/Users/Anis Speiler/Desktop/Nouveau dossier (3)/T31TCJ_Toulouse_Nord\\\\20230906.tif', 'C:/Users/Anis Speiler/Desktop/Nouveau dossier (3)/T31TCJ_Toulouse_Nord\\\\20230908.tif', 'C:/Users/Anis Speiler/Desktop/Nouveau dossier (3)/T31TCJ_Toulouse_Nord\\\\20230910.tif', 'C:/Users/Anis Speiler/Desktop/Nouveau dossier (3)/T31TCJ_Toulouse_Nord\\\\20230912.tif', 'C:/Users/Anis Speiler/Desktop/Nouveau dossier (3)/T31TCJ_Toulouse_Nord\\\\20230914.tif', 'C:/Users/Anis Speiler/Desktop/Nouveau dossier (3)/T31TCJ_Toulouse_Nord\\\\20230916.tif', 'C:/Users/Anis Speiler/Desktop/Nouveau dossier (3)/T31TCJ_Toulouse_Nord\\\\20230918.tif', 'C:/Users/Anis Speiler/Desktop/Nouveau dossier (3)/T31TCJ_Toulouse_Nord\\\\20230920.tif', 'C:/Users/Anis Speiler/Desktop/Nouveau dossier (3)/T31TCJ_Toulouse_Nord\\\\20230922.tif', 'C:/Users/Anis Speiler/Desktop/Nouveau dossier (3)/T31TCJ_Toulouse_Nord\\\\20230924.tif', 'C:/Users/Anis Speiler/Desktop/Nouveau dossier (3)/T31TCJ_Toulouse_Nord\\\\20230926.tif', 'C:/Users/Anis Speiler/Desktop/Nouveau dossier (3)/T31TCJ_Toulouse_Nord\\\\20230928.tif', 'C:/Users/Anis Speiler/Desktop/Nouveau dossier (3)/T31TCJ_Toulouse_Nord\\\\20230930.tif', 'C:/Users/Anis Speiler/Desktop/Nouveau dossier (3)/T31TCJ_Toulouse_Nord\\\\20231002.tif', 'C:/Users/Anis Speiler/Desktop/Nouveau dossier (3)/T31TCJ_Toulouse_Nord\\\\20231004.tif', 'C:/Users/Anis Speiler/Desktop/Nouveau dossier (3)/T31TCJ_Toulouse_Nord\\\\20231006.tif', 'C:/Users/Anis Speiler/Desktop/Nouveau dossier (3)/T31TCJ_Toulouse_Nord\\\\20231008.tif', 'C:/Users/Anis Speiler/Desktop/Nouveau dossier (3)/T31TCJ_Toulouse_Nord\\\\20231010.tif', 'C:/Users/Anis Speiler/Desktop/Nouveau dossier (3)/T31TCJ_Toulouse_Nord\\\\20231012.tif', 'C:/Users/Anis Speiler/Desktop/Nouveau dossier (3)/T31TCJ_Toulouse_Nord\\\\20231014.tif', 'C:/Users/Anis Speiler/Desktop/Nouveau dossier (3)/T31TCJ_Toulouse_Nord\\\\20231016.tif', 'C:/Users/Anis Speiler/Desktop/Nouveau dossier (3)/T31TCJ_Toulouse_Nord\\\\20231018.tif', 'C:/Users/Anis Speiler/Desktop/Nouveau dossier (3)/T31TCJ_Toulouse_Nord\\\\20231020.tif', 'C:/Users/Anis Speiler/Desktop/Nouveau dossier (3)/T31TCJ_Toulouse_Nord\\\\20231022.tif', 'C:/Users/Anis Speiler/Desktop/Nouveau dossier (3)/T31TCJ_Toulouse_Nord\\\\20231024.tif', 'C:/Users/Anis Speiler/Desktop/Nouveau dossier (3)/T31TCJ_Toulouse_Nord\\\\20231026.tif', 'C:/Users/Anis Speiler/Desktop/Nouveau dossier (3)/T31TCJ_Toulouse_Nord\\\\20231028.tif', 'C:/Users/Anis Speiler/Desktop/Nouveau dossier (3)/T31TCJ_Toulouse_Nord\\\\20231030.tif', 'C:/Users/Anis Speiler/Desktop/Nouveau dossier (3)/T31TCJ_Toulouse_Nord\\\\20231101.tif', 'C:/Users/Anis Speiler/Desktop/Nouveau dossier (3)/T31TCJ_Toulouse_Nord\\\\20231103.tif', 'C:/Users/Anis Speiler/Desktop/Nouveau dossier (3)/T31TCJ_Toulouse_Nord\\\\20231105.tif', 'C:/Users/Anis Speiler/Desktop/Nouveau dossier (3)/T31TCJ_Toulouse_Nord\\\\20231107.tif', 'C:/Users/Anis Speiler/Desktop/Nouveau dossier (3)/T31TCJ_Toulouse_Nord\\\\20231109.tif', 'C:/Users/Anis Speiler/Desktop/Nouveau dossier (3)/T31TCJ_Toulouse_Nord\\\\20231111.tif', 'C:/Users/Anis Speiler/Desktop/Nouveau dossier (3)/T31TCJ_Toulouse_Nord\\\\20231113.tif', 'C:/Users/Anis Speiler/Desktop/Nouveau dossier (3)/T31TCJ_Toulouse_Nord\\\\20231115.tif', 'C:/Users/Anis Speiler/Desktop/Nouveau dossier (3)/T31TCJ_Toulouse_Nord\\\\20231117.tif', 'C:/Users/Anis Speiler/Desktop/Nouveau dossier (3)/T31TCJ_Toulouse_Nord\\\\20231119.tif', 'C:/Users/Anis Speiler/Desktop/Nouveau dossier (3)/T31TCJ_Toulouse_Nord\\\\20231121.tif', 'C:/Users/Anis Speiler/Desktop/Nouveau dossier (3)/T31TCJ_Toulouse_Nord\\\\20231123.tif', 'C:/Users/Anis Speiler/Desktop/Nouveau dossier (3)/T31TCJ_Toulouse_Nord\\\\20231125.tif', 'C:/Users/Anis Speiler/Desktop/Nouveau dossier (3)/T31TCJ_Toulouse_Nord\\\\20231127.tif', 'C:/Users/Anis Speiler/Desktop/Nouveau dossier (3)/T31TCJ_Toulouse_Nord\\\\20231129.tif', 'C:/Users/Anis Speiler/Desktop/Nouveau dossier (3)/T31TCJ_Toulouse_Nord\\\\20231201.tif', 'C:/Users/Anis Speiler/Desktop/Nouveau dossier (3)/T31TCJ_Toulouse_Nord\\\\20231203.tif', 'C:/Users/Anis Speiler/Desktop/Nouveau dossier (3)/T31TCJ_Toulouse_Nord\\\\20231205.tif', 'C:/Users/Anis Speiler/Desktop/Nouveau dossier (3)/T31TCJ_Toulouse_Nord\\\\20231207.tif', 'C:/Users/Anis Speiler/Desktop/Nouveau dossier (3)/T31TCJ_Toulouse_Nord\\\\20231209.tif', 'C:/Users/Anis Speiler/Desktop/Nouveau dossier (3)/T31TCJ_Toulouse_Nord\\\\20231211.tif', 'C:/Users/Anis Speiler/Desktop/Nouveau dossier (3)/T31TCJ_Toulouse_Nord\\\\20231213.tif', 'C:/Users/Anis Speiler/Desktop/Nouveau dossier (3)/T31TCJ_Toulouse_Nord\\\\20231215.tif', 'C:/Users/Anis Speiler/Desktop/Nouveau dossier (3)/T31TCJ_Toulouse_Nord\\\\20231217.tif', 'C:/Users/Anis Speiler/Desktop/Nouveau dossier (3)/T31TCJ_Toulouse_Nord\\\\20231219.tif', 'C:/Users/Anis Speiler/Desktop/Nouveau dossier (3)/T31TCJ_Toulouse_Nord\\\\20231221.tif', 'C:/Users/Anis Speiler/Desktop/Nouveau dossier (3)/T31TCJ_Toulouse_Nord\\\\20231223.tif', 'C:/Users/Anis Speiler/Desktop/Nouveau dossier (3)/T31TCJ_Toulouse_Nord\\\\20231225.tif', 'C:/Users/Anis Speiler/Desktop/Nouveau dossier (3)/T31TCJ_Toulouse_Nord\\\\20231227.tif', 'C:/Users/Anis Speiler/Desktop/Nouveau dossier (3)/T31TCJ_Toulouse_Nord\\\\20231229.tif']\n",
      "nb images 182 \n"
     ]
    }
   ],
   "source": [
    "sits_folder = \"C:/Users/Anis Speiler/Desktop/Nouveau dossier (3)/T31TCJ_Toulouse_Nord\"\n",
    "\n",
    "list_images = tools.readFiles(sits_folder, \".tif\")\n",
    "list_images = sorted(list_images, key=lambda x: int(os.path.basename(x).split(\".\")[0]))\n",
    "\n",
    "print(list_images)\n",
    "print(\"nb images %s \" % len(list_images))"
   ]
  },
  {
   "cell_type": "code",
   "execution_count": 22,
   "metadata": {},
   "outputs": [],
   "source": [
    "sits = []\n",
    "for img in list_images:\n",
    "    numpy_image, _, _ = tools.readImage(img)\n",
    "    sits.append(numpy_image)\n",
    "\n",
    "sits = np.stack(sits, axis=0) # => [Temps, Rows, COls, channels]\n",
    "\n",
    "# print(sits)"
   ]
  },
  {
   "cell_type": "code",
   "execution_count": 4,
   "metadata": {},
   "outputs": [],
   "source": [
    "time, rows, cols, channels = sits.shape"
   ]
  },
  {
   "cell_type": "code",
   "execution_count": 5,
   "metadata": {},
   "outputs": [
    {
     "name": "stdout",
     "output_type": "stream",
     "text": [
      "(7200000, 4, 15)\n"
     ]
    }
   ],
   "source": [
    "# [Temps 0 , Rows 1 , COls 2 , channels 3 ]\n",
    "# [ROws*cols, channels, temps]\n",
    "#   [rows, cols, channels, temps]\n",
    "\n",
    "sits = sits.transpose((1, 2, 3, 0))\n",
    "sits = sits.reshape((-1, channels, time))\n",
    "print(sits.shape)"
   ]
  },
  {
   "cell_type": "code",
   "execution_count": 6,
   "metadata": {},
   "outputs": [],
   "source": [
    "path_classes = \"C:/Users/Anis Speiler/Desktop/Nouveau dossier (3)/T31TCJ_Toulouse_Nord_Classe.tif\"\n",
    "path_conf = \"C:/Users/Anis Speiler/Desktop/Nouveau dossier (3)/T31TCJ_Toulouse_Nord_Confidence.tif\"\n",
    "\n",
    "img_classes, _,_ = tools.readImage(path_classes)\n",
    "img_confidence, _,_ = tools.readImage(path_conf)\n",
    "\n",
    "\n",
    "img_classes = img_classes.reshape((-1, 1))\n",
    "img_confidence = img_confidence.reshape((-1, 1))\n"
   ]
  },
  {
   "cell_type": "code",
   "execution_count": 7,
   "metadata": {},
   "outputs": [
    {
     "name": "stdout",
     "output_type": "stream",
     "text": [
      "liste des classes sont :  [ 1  2  3  4  5  6  7  8  9 10 12 13 14 15 16 17 19 23 24]\n"
     ]
    }
   ],
   "source": [
    "classes = np.unique(img_classes)\n",
    "print(\"liste des classes sont : \", classes)"
   ]
  },
  {
   "cell_type": "code",
   "execution_count": null,
   "metadata": {},
   "outputs": [],
   "source": [
    "nb_samples = 1000\n",
    "cord = {}\n",
    "\n",
    "\n",
    "for c in classes:\n",
    "    x = np.argwhere(img_classes == c)\n",
    "    indexs =np.argsort(img_confidence[x[: , 0]] , axis = 0).reshape((-1 , 1))\n",
    "    a = x[indexs[: , 0][:: -1]][0 : nb_samples]\n",
    "    b = img_confidence[a[: , 0]]\n",
    "    print(c , \"-->\" , b.max())\n",
    "    cord[c] = a  \n",
    "\n",
    "print(cord)"
   ]
  },
  {
   "cell_type": "code",
   "execution_count": 20,
   "metadata": {},
   "outputs": [
    {
     "name": "stdout",
     "output_type": "stream",
     "text": [
      "(1000, 4, 15)\n",
      "(1000, 4, 15)\n",
      "(1000, 4, 15)\n",
      "(1000, 4, 15)\n",
      "(1000, 4, 15)\n",
      "(1000, 4, 15)\n",
      "(1000, 4, 15)\n",
      "(1000, 4, 15)\n",
      "(1000, 4, 15)\n",
      "(1000, 4, 15)\n",
      "(1000, 4, 15)\n",
      "(1000, 4, 15)\n",
      "(1000, 4, 15)\n",
      "(1000, 4, 15)\n",
      "(1000, 4, 15)\n",
      "(1000, 4, 15)\n",
      "(1000, 4, 15)\n",
      "(1000, 4, 15)\n",
      "(1000, 4, 15)\n",
      "19000\n",
      "(19000, 4, 15)\n"
     ]
    }
   ],
   "source": [
    "timeSeries = []\n",
    "labels = []\n",
    "\n",
    "for c in classes:\n",
    "    coord = cord[c] \n",
    "    pixel = sits[coord[: , 0]]\n",
    "    print(pixel.shape)\n",
    "    timeSeries.append(pixel)\n",
    "    labels.extend([c]*len(coord))\n",
    "\n",
    "timeSeries = np.vstack(timeSeries)\n",
    "labels = np.array(labels)\n",
    "print(len(labels))\n",
    "print(timeSeries.shape)\n",
    "\n",
    "np.save('time_series', { 'labels' : labels , \"timeSeries\" : timeSeries })"
   ]
  },
  {
   "cell_type": "code",
   "execution_count": null,
   "metadata": {},
   "outputs": [],
   "source": [
    "time_series = sits[indexs]\n",
    "sits.shape"
   ]
  }
 ],
 "metadata": {
  "kernelspec": {
   "display_name": ".venv",
   "language": "python",
   "name": "python3"
  },
  "language_info": {
   "codemirror_mode": {
    "name": "ipython",
    "version": 3
   },
   "file_extension": ".py",
   "mimetype": "text/x-python",
   "name": "python",
   "nbconvert_exporter": "python",
   "pygments_lexer": "ipython3",
   "version": "3.12.0"
  }
 },
 "nbformat": 4,
 "nbformat_minor": 2
}
